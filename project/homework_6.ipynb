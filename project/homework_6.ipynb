{
 "cells": [
  {
   "cell_type": "code",
   "execution_count": 2,
   "id": "ba3dc259-c7b4-41ab-a229-24905967ddf6",
   "metadata": {},
   "outputs": [
    {
     "name": "stdout",
     "output_type": "stream",
     "text": [
      "     ride_id  predicted_duration\n",
      "0  2023/03_0           16.245906\n",
      "1  2023/03_1           26.134796\n",
      "2  2023/03_2           11.884264\n",
      "3  2023/03_3           11.997720\n",
      "4  2023/03_4           10.234486\n",
      "5  2023/03_5           10.597174\n",
      "6  2023/03_6           12.444793\n",
      "7  2023/03_7           10.972209\n",
      "8  2023/03_8           23.120343\n",
      "9  2023/03_9           10.281116\n"
     ]
    }
   ],
   "source": [
    "import pandas as pd\n",
    "\n",
    "# Read the Parquet file into a pandas DataFrame\n",
    "df = pd.read_parquet('yellow_tripdata_2023-03.parquet')\n",
    "\n",
    "# Display the top 10 rows in the DataFrame\n",
    "print(df.head(10))\n"
   ]
  },
  {
   "cell_type": "code",
   "execution_count": 4,
   "id": "8db2de5d-0678-454e-aca0-6c84130716e9",
   "metadata": {},
   "outputs": [
    {
     "name": "stdout",
     "output_type": "stream",
     "text": [
      "   VendorID tpep_pickup_datetime tpep_dropoff_datetime  passenger_count  \\\n",
      "0         2  2023-03-01 00:06:43   2023-03-01 00:16:43              1.0   \n",
      "1         2  2023-03-01 00:08:25   2023-03-01 00:39:30              2.0   \n",
      "2         1  2023-03-01 00:15:04   2023-03-01 00:29:26              0.0   \n",
      "3         1  2023-03-01 00:49:37   2023-03-01 01:01:05              1.0   \n",
      "4         2  2023-03-01 00:08:04   2023-03-01 00:11:06              1.0   \n",
      "5         1  2023-03-01 00:09:09   2023-03-01 00:17:34              1.0   \n",
      "6         1  2023-03-01 00:32:21   2023-03-01 00:42:08              1.0   \n",
      "7         1  2023-03-01 00:45:12   2023-03-01 00:52:37              1.0   \n",
      "8         1  2023-03-01 00:19:43   2023-03-01 00:39:37              1.0   \n",
      "9         2  2023-03-01 00:08:42   2023-03-01 00:18:45              1.0   \n",
      "\n",
      "   trip_distance  RatecodeID store_and_fwd_flag  PULocationID  DOLocationID  \\\n",
      "0           0.00         1.0                  N           238            42   \n",
      "1          12.40         1.0                  N           138           231   \n",
      "2           3.30         1.0                  N           140           186   \n",
      "3           2.90         1.0                  N           140            43   \n",
      "4           1.23         1.0                  N            79           137   \n",
      "5           1.20         1.0                  N           162           137   \n",
      "6           1.80         1.0                  N           170            48   \n",
      "7           2.00         1.0                  N            48           164   \n",
      "8           5.30         1.0                  N           113            61   \n",
      "9           2.27         1.0                  N           239           263   \n",
      "\n",
      "   payment_type  fare_amount  extra  mta_tax  tip_amount  tolls_amount  \\\n",
      "0             2          8.6    1.0      0.5        0.00           0.0   \n",
      "1             1         52.7    6.0      0.5       12.54           0.0   \n",
      "2             1         18.4    3.5      0.5        4.65           0.0   \n",
      "3             1         15.6    3.5      0.5        4.10           0.0   \n",
      "4             1          7.2    1.0      0.5        2.44           0.0   \n",
      "5             1         10.0    3.5      0.5        3.00           0.0   \n",
      "6             1         12.1    3.5      0.5        3.40           0.0   \n",
      "7             2         10.7    3.5      0.5        0.00           0.0   \n",
      "8             1         26.1    3.5      0.5        9.30           0.0   \n",
      "9             1         13.5    1.0      0.5        3.70           0.0   \n",
      "\n",
      "   improvement_surcharge  total_amount  congestion_surcharge  Airport_fee  \n",
      "0                    1.0         11.10                   0.0         0.00  \n",
      "1                    1.0         76.49                   2.5         1.25  \n",
      "2                    1.0         28.05                   2.5         0.00  \n",
      "3                    1.0         24.70                   2.5         0.00  \n",
      "4                    1.0         14.64                   2.5         0.00  \n",
      "5                    1.0         18.00                   2.5         0.00  \n",
      "6                    1.0         20.50                   2.5         0.00  \n",
      "7                    1.0         15.70                   2.5         0.00  \n",
      "8                    1.0         40.40                   2.5         0.00  \n",
      "9                    1.0         22.20                   2.5         0.00  \n"
     ]
    }
   ],
   "source": [
    "import pandas as pd\n",
    "\n",
    "# Read the Parquet file into a pandas DataFrame\n",
    "df = pd.read_parquet('input/input_yellow_tripdata_2023-03.parquet')\n",
    "\n",
    "# Display the top 10 rows in the DataFrame\n",
    "print(df.head(10))\n"
   ]
  },
  {
   "cell_type": "code",
   "execution_count": null,
   "id": "b44eff8a-ae24-4fc3-b59d-4c4af7e27ea5",
   "metadata": {},
   "outputs": [],
   "source": []
  }
 ],
 "metadata": {
  "kernelspec": {
   "display_name": "Python 3 (ipykernel)",
   "language": "python",
   "name": "python3"
  },
  "language_info": {
   "codemirror_mode": {
    "name": "ipython",
    "version": 3
   },
   "file_extension": ".py",
   "mimetype": "text/x-python",
   "name": "python",
   "nbconvert_exporter": "python",
   "pygments_lexer": "ipython3",
   "version": "3.12.1"
  }
 },
 "nbformat": 4,
 "nbformat_minor": 5
}
