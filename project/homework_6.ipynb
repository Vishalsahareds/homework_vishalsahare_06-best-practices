{
 "cells": [
  {
   "cell_type": "code",
   "execution_count": 1,
   "id": "ba3dc259-c7b4-41ab-a229-24905967ddf6",
   "metadata": {},
   "outputs": [
    {
     "name": "stdout",
     "output_type": "stream",
     "text": [
      "     ride_id  predicted_duration\n",
      "0  2023/03_0           16.245906\n",
      "1  2023/03_1           26.134796\n",
      "2  2023/03_2           11.884264\n",
      "3  2023/03_3           11.997720\n",
      "4  2023/03_4           10.234486\n",
      "5  2023/03_5           10.597174\n",
      "6  2023/03_6           12.444793\n",
      "7  2023/03_7           10.972209\n",
      "8  2023/03_8           23.120343\n",
      "9  2023/03_9           10.281116\n"
     ]
    }
   ],
   "source": [
    "import pandas as pd\n",
    "\n",
    "# Read the Parquet file into a pandas DataFrame\n",
    "df = pd.read_parquet('yellow_tripdata_2023-03.parquet')\n",
    "\n",
    "# Display the top 10 rows in the DataFrame\n",
    "print(df.head(10))\n"
   ]
  }
 ],
 "metadata": {
  "kernelspec": {
   "display_name": "Python 3 (ipykernel)",
   "language": "python",
   "name": "python3"
  },
  "language_info": {
   "codemirror_mode": {
    "name": "ipython",
    "version": 3
   },
   "file_extension": ".py",
   "mimetype": "text/x-python",
   "name": "python",
   "nbconvert_exporter": "python",
   "pygments_lexer": "ipython3",
   "version": "3.12.1"
  }
 },
 "nbformat": 4,
 "nbformat_minor": 5
}
