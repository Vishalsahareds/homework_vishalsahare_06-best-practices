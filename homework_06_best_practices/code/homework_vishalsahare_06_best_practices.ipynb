{
 "cells": [
  {
   "cell_type": "markdown",
   "id": "f28ce282-a59f-403d-b197-9ac18b17fb03",
   "metadata": {},
   "source": [
    "## homework_vishalsahare_06_best_practices"
   ]
  },
  {
   "cell_type": "markdown",
   "id": "14813fb1-70df-40e7-92da-2210076a309b",
   "metadata": {},
   "source": [
    "## Q1. Refactoring\n",
    "Before we can start covering our code with tests, we need to refactor it. We'll start by getting rid of all the global variables.\n",
    "\n",
    "Let's create a function main with two parameters: year and month.\n",
    "Move all the code (except read_data) inside main\n",
    "Make categorical a parameter for read_data and pass it inside main\n",
    "Now we need to create the \"main\" block from which we'll invoke the main function. How does the if statement that we use for this looks like?\n",
    "\n",
    "Hint: after refactoring, check that the code still works. Just run it e.g. for March 2023 and see if it finishes successfully.\n",
    "\n",
    "To make it easier to run it, you can write results to your local filesystem. E.g. here:\n",
    "\n",
    "output_file = f'taxi_type=yellow_year={year:04d}_month={month:02d}.parquet'"
   ]
  },
  {
   "cell_type": "code",
   "execution_count": null,
   "id": "479d56a2-f815-4ce5-a541-6fcb40f0c347",
   "metadata": {},
   "outputs": [],
   "source": []
  },
  {
   "cell_type": "code",
   "execution_count": null,
   "id": "72be5d92-c25e-49da-9995-5f5ef465a413",
   "metadata": {},
   "outputs": [],
   "source": []
  }
 ],
 "metadata": {
  "kernelspec": {
   "display_name": "Python 3 (ipykernel)",
   "language": "python",
   "name": "python3"
  },
  "language_info": {
   "codemirror_mode": {
    "name": "ipython",
    "version": 3
   },
   "file_extension": ".py",
   "mimetype": "text/x-python",
   "name": "python",
   "nbconvert_exporter": "python",
   "pygments_lexer": "ipython3",
   "version": "3.9.20"
  }
 },
 "nbformat": 4,
 "nbformat_minor": 5
}
